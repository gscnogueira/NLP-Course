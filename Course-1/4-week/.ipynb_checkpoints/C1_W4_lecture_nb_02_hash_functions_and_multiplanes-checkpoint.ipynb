{
 "cells": [
  {
   "cell_type": "markdown",
   "id": "d5d94136",
   "metadata": {},
   "source": [
    "# Hash functions and multiplanes"
   ]
  },
  {
   "cell_type": "markdown",
   "id": "8578282b",
   "metadata": {},
   "source": [
    "## Basic Hash tables"
   ]
  },
  {
   "cell_type": "code",
   "execution_count": 1,
   "id": "1d4a2f10",
   "metadata": {},
   "outputs": [],
   "source": [
    "import numpy as np\n",
    "import pprint\n",
    "from utils_nb import plot_vectors\n",
    "import matplotlib.pyplot as plt\n",
    "\n",
    "pp = pprint.PrettyPrinter(indent=4) # Instantiate a pretty printer"
   ]
  },
  {
   "cell_type": "markdown",
   "id": "0c20e4a3",
   "metadata": {},
   "source": [
    "In the next cell, we will define a straightforward hash function for integer numbers. The function will produce a hash table stored as a dictionary, where keys contain the hash keys, and the values will provide the hashed elements of the input list. \n",
    "\n",
    "The hash function is just the remainder of the integer division between each element and the desired number of buckets."
   ]
  },
  {
   "cell_type": "code",
   "execution_count": 2,
   "id": "9775ac5e",
   "metadata": {},
   "outputs": [],
   "source": [
    "def basic_hash_table(value_l, n_buckets):\n",
    "    \n",
    "    def hash_function(value, n_buckets):\n",
    "        return int(value) % n_buckets\n",
    "    \n",
    "    hash_table = {i:[] for i in range(n_buckets)}\n",
    "    \n",
    "    for value in value_l:\n",
    "        hash_value = hash_function(value, n_buckets)\n",
    "        hash_table[hash_value].append(value)\n",
    "        \n",
    "    return hash_table"
   ]
  },
  {
   "cell_type": "markdown",
   "id": "d5ea1707",
   "metadata": {},
   "source": [
    "Now let's see the hash table function in action. The pretty print function (`pprint()`) will produce a visually appealing output."
   ]
  },
  {
   "cell_type": "code",
   "execution_count": 3,
   "id": "d53c0aef",
   "metadata": {},
   "outputs": [
    {
     "name": "stdout",
     "output_type": "stream",
     "text": [
      "{   0: [100, 10],\n",
      "    1: [],\n",
      "    2: [],\n",
      "    3: [],\n",
      "    4: [14],\n",
      "    5: [],\n",
      "    6: [],\n",
      "    7: [17, 97],\n",
      "    8: [],\n",
      "    9: []}\n"
     ]
    }
   ],
   "source": [
    "value_l = [100, 10, 14, 17, 97]\n",
    "hash_table_example = basic_hash_table(value_l, n_buckets=10)\n",
    "pp.pprint(hash_table_example)"
   ]
  },
  {
   "cell_type": "markdown",
   "id": "abf29c25",
   "metadata": {},
   "source": [
    "## Planes\n",
    "\n",
    "Multiplanes hash functions are other types of hash functions. Multiplanes hash functions are based on the idea of numbering every single region that is formed by the intersection of n planes. In the follwoing code, we show the most basic forms of the multiplane principle. First, with a single plane:"
   ]
  },
  {
   "cell_type": "code",
   "execution_count": 10,
   "id": "951c5346",
   "metadata": {},
   "outputs": [
    {
     "data": {
      "image/png": "[encoded data removed]",
      "text/plain": [
       "<Figure size 576x576 with 1 Axes>"
      ]
     },
     "metadata": {
      "needs_background": "light"
     },
     "output_type": "display_data"
    }
   ],
   "source": [
    "P = np.array([[1, 1]]) # define a sinlge plane\n",
    "fig, ax1 = plt.subplots(figsize=(8,8)) # Create a plot\n",
    "\n",
    "plot_vectors([P], axes=[2, 2], ax=ax1) # Plot the plane P as a vector\n",
    "\n",
    "# Plot random points:\n",
    "for i in range(0, 10):\n",
    "    v1 = np.array(np.random.uniform(-2, 2, 2)) # Get a pair of random numbers between -4 and 4\n",
    "    side_of_plane = np.sign(np.dot(P, v1.T))\n",
    "    \n",
    "    # Color the points depending on the sign of the result of np.dot(P, point.T)\n",
    "    if side_of_plane == 1:\n",
    "        ax1.plot([v1[0]], [v1[1]], 'bo') # Plot blue points\n",
    "    else:\n",
    "        ax1.plot([v1[0]], [v1[1]], 'ro') # Plot red points\n",
    "        \n",
    "plt.show()"
   ]
  },
  {
   "cell_type": "markdown",
   "id": "b97b59c6",
   "metadata": {},
   "source": [
    "The first thing to note is that the vector that defines the plane does not mark the boundary between the two sides of the plane. It marks the direction in which you find the 'positive' side of the plane.\n",
    "\n",
    "If we want to plot the separation plane, we need to plot a line that is perperndicular to our vector `P`. We can get such a line using a $90^o$ rotation matrix."
   ]
  },
  {
   "cell_type": "code",
   "execution_count": 16,
   "id": "97b7d0b1",
   "metadata": {},
   "outputs": [
    {
     "data": {
      "image/png": "[encoded data removed]",
      "text/plain": [
       "<Figure size 576x576 with 1 Axes>"
      ]
     },
     "metadata": {
      "needs_background": "light"
     },
     "output_type": "display_data"
    }
   ],
   "source": [
    "P = np.array([[1, 2]]) # Define a single plane. \n",
    "\n",
    "# Get a new plane perpendicular to P. We use the rotation matrix\n",
    "PT = np.dot([[0, 1], [-1, 0]], P.T).T\n",
    "\n",
    "fig, ax1 = plt.subplots(figsize=(8,8)) # Create a plot with custom size\n",
    "\n",
    "plot_vectors([P], colors=['b'], axes=[2, 2], ax=ax1) # Plot the plane as a vector\n",
    "\n",
    "# Plot the plane P as 2 vectors\n",
    "# We scale by 2 just to get the arroes outside the current box\n",
    "plot_vectors([PT * 4, PT * -4], colors = ['k', 'k'], axes=[4,4], ax=ax1)\n",
    "\n",
    "# Plot 20 random points:\n",
    "for i in range(0, 20):\n",
    "    v1 = np.array(np.random.uniform(-4, 4, 2)) # Get a pair of random numbers between -4 and 4\n",
    "    side_of_plane = np.sign(np.dot(P, v1.T)) # Get the sign of the dot product with P\n",
    "    # Color the points depending on the sign of the result of np.dot(P, point.T)\n",
    "    if side_of_plane == 1:\n",
    "        ax1.plot([v1[0]], [v1[1]], 'bo') # Plot the blue point\n",
    "    else:\n",
    "        ax1.plot([v1[0]], [v1[1]], 'ro') # Plot a red point\n",
    "        \n",
    "plt.show()\n"
   ]
  },
  {
   "cell_type": "markdown",
   "id": "82cd663c",
   "metadata": {},
   "source": [
    "Now, let us see what is inside the code that color the points."
   ]
  },
  {
   "cell_type": "code",
   "execution_count": 18,
   "id": "d3a38190",
   "metadata": {},
   "outputs": [],
   "source": [
    "P = np.array([[1, 1]])\n",
    "v1 = np.array([[1, 2]])\n",
    "v2 = np.array([[-1, 1]])\n",
    "v3 = np.array([[-2, -1]])"
   ]
  },
  {
   "cell_type": "code",
   "execution_count": 19,
   "id": "7257e023",
   "metadata": {},
   "outputs": [
    {
     "data": {
      "text/plain": [
       "array([[3]])"
      ]
     },
     "execution_count": 19,
     "metadata": {},
     "output_type": "execute_result"
    }
   ],
   "source": [
    "np.dot(P, v1.T)"
   ]
  },
  {
   "cell_type": "code",
   "execution_count": 20,
   "id": "aca307c6",
   "metadata": {},
   "outputs": [
    {
     "data": {
      "text/plain": [
       "array([[0]])"
      ]
     },
     "execution_count": 20,
     "metadata": {},
     "output_type": "execute_result"
    }
   ],
   "source": [
    "np.dot(P, v2.T)"
   ]
  },
  {
   "cell_type": "code",
   "execution_count": 22,
   "id": "6664f0a1",
   "metadata": {},
   "outputs": [
    {
     "data": {
      "text/plain": [
       "array([[-3]])"
      ]
     },
     "execution_count": 22,
     "metadata": {},
     "output_type": "execute_result"
    }
   ],
   "source": [
    "np.dot(P, v3.T)"
   ]
  },
  {
   "cell_type": "markdown",
   "id": "78af000a",
   "metadata": {},
   "source": [
    "The function below checks in which side of the plane P is located the vector `v`"
   ]
  },
  {
   "cell_type": "code",
   "execution_count": 23,
   "id": "e08b0519",
   "metadata": {},
   "outputs": [],
   "source": [
    "def side_of_plane(P, v):\n",
    "    dotproduct = np.dot(P, v.T) # Get the dot product P * v\n",
    "    sign_of_dot_product = np.sign(dotproduct) # The sign  of the elements of the dotproduct matrix\n",
    "    sign_of_dot_product_scalar = sign_of_dot_product.item() # The value of the first item\n",
    "    return sign_of_dot_product_scalar"
   ]
  },
  {
   "cell_type": "code",
   "execution_count": 24,
   "id": "01a65558",
   "metadata": {},
   "outputs": [
    {
     "data": {
      "text/plain": [
       "1"
      ]
     },
     "execution_count": 24,
     "metadata": {},
     "output_type": "execute_result"
    }
   ],
   "source": [
    "side_of_plane(P, v1)"
   ]
  },
  {
   "cell_type": "code",
   "execution_count": 25,
   "id": "e4c2c003",
   "metadata": {},
   "outputs": [
    {
     "data": {
      "text/plain": [
       "0"
      ]
     },
     "execution_count": 25,
     "metadata": {},
     "output_type": "execute_result"
    }
   ],
   "source": [
    "side_of_plane(P, v2)"
   ]
  },
  {
   "cell_type": "code",
   "execution_count": 26,
   "id": "ba9932ff",
   "metadata": {},
   "outputs": [
    {
     "data": {
      "text/plain": [
       "-1"
      ]
     },
     "execution_count": 26,
     "metadata": {},
     "output_type": "execute_result"
    }
   ],
   "source": [
    "side_of_plane(P, v3)"
   ]
  },
  {
   "cell_type": "markdown",
   "id": "2e03dd50",
   "metadata": {},
   "source": [
    "## Hash Function with multiple planes\n",
    "\n",
    "In the following section, we are going to define a hash function with a list of three custom planes in 2D."
   ]
  },
  {
   "cell_type": "code",
   "execution_count": 28,
   "id": "d0669eee",
   "metadata": {},
   "outputs": [],
   "source": [
    "P1 = np.array([[1, 1]]) # First plane 2D\n",
    "P2 = np.array([[-1, 1]]) # Second plane 2D\n",
    "P3 = np.array([[-1, -1]]) # Third plane 2D\n",
    "P_l = [P1, P2, P3] # List of arrays. It is the multi plane\n",
    "\n",
    "# Vector to search\n",
    "v = np.array([[2, 2]])"
   ]
  },
  {
   "cell_type": "markdown",
   "id": "fb3235ad",
   "metadata": {},
   "source": [
    "The next function creates a hash value based on a set of planes. The output value is a combination of the side of the plane where the vector is localized with respect to te collection of planes.\n",
    "\n",
    "We can think of this list of planes as a set of basic hash functions, each of which produce only 1 or 0 output."
   ]
  },
  {
   "cell_type": "code",
   "execution_count": 29,
   "id": "b7e87adc",
   "metadata": {},
   "outputs": [],
   "source": [
    "def hash_multi_plane(P_l, v):\n",
    "    hash_value = 0\n",
    "    for i, P in enumerate(P_l):\n",
    "        sign = side_of_plane(P, v)\n",
    "        hash_i = 1 if sign >= 0 else 0\n",
    "        hash_value +=2**i * hash_i\n",
    "    return hash_value"
   ]
  },
  {
   "cell_type": "code",
   "execution_count": 31,
   "id": "62e295a2",
   "metadata": {},
   "outputs": [
    {
     "data": {
      "text/plain": [
       "3"
      ]
     },
     "execution_count": 31,
     "metadata": {},
     "output_type": "execute_result"
    }
   ],
   "source": [
    "hash_multi_plane(P_l, v) # Find the number of the plane that contains this value"
   ]
  },
  {
   "cell_type": "markdown",
   "id": "2c7441b3",
   "metadata": {},
   "source": [
    "## Random Planes\n",
    "\n",
    "In the cell bellow, we create a set of three random planes"
   ]
  },
  {
   "cell_type": "code",
   "execution_count": 32,
   "id": "130fbf5c",
   "metadata": {},
   "outputs": [
    {
     "name": "stdout",
     "output_type": "stream",
     "text": [
      "[[ 1.76405235  0.40015721]\n",
      " [ 0.97873798  2.2408932 ]\n",
      " [ 1.86755799 -0.97727788]]\n"
     ]
    }
   ],
   "source": [
    "np.random.seed(0)\n",
    "num_dimensions = 2 # is 300 in assignment\n",
    "num_planes = 3 # is 10 in assignment\n",
    "random_planes_matrix = np.random.normal(\n",
    "                       size=(num_planes, num_dimensions))\n",
    "print(random_planes_matrix)"
   ]
  },
  {
   "cell_type": "code",
   "execution_count": 33,
   "id": "e73eb2fa",
   "metadata": {},
   "outputs": [],
   "source": [
    "v = np.array([[2, 2]])"
   ]
  },
  {
   "cell_type": "markdown",
   "id": "b6199100",
   "metadata": {},
   "source": [
    "The next function is similar to the `side_of_plane()` function, but it evaluates more than a plane each time. The result is an array with the side of plane of `v`, for the set of planes `P`"
   ]
  },
  {
   "cell_type": "code",
   "execution_count": 35,
   "id": "82de212a",
   "metadata": {},
   "outputs": [],
   "source": [
    "# Side of the plane function. The result is a matrix\n",
    "def side_of_plane_matrix(P, v):\n",
    "    dotproduct = np.dot(P, v.T)\n",
    "    sign_of_dot_product = np.sign(dotproduct) # Get a boolean value telling if the value in the cell is positive or negative\n",
    "    return sign_of_dot_product"
   ]
  },
  {
   "cell_type": "markdown",
   "id": "03905c00",
   "metadata": {},
   "source": [
    "Get the side of the plane of the vector `[2, 2]` for the set of random planes."
   ]
  },
  {
   "cell_type": "code",
   "execution_count": 36,
   "id": "df32fe41",
   "metadata": {},
   "outputs": [
    {
     "data": {
      "text/plain": [
       "array([[1.],\n",
       "       [1.],\n",
       "       [1.]])"
      ]
     },
     "execution_count": 36,
     "metadata": {},
     "output_type": "execute_result"
    }
   ],
   "source": [
    "sides_l = side_of_plane_matrix(random_planes_matrix, v)\n",
    "\n",
    "sides_l"
   ]
  },
  {
   "cell_type": "markdown",
   "id": "bc0b427d",
   "metadata": {},
   "source": [
    "Now, let us define the former function to define our multiple hash function"
   ]
  },
  {
   "cell_type": "code",
   "execution_count": 37,
   "id": "3784135f",
   "metadata": {},
   "outputs": [],
   "source": [
    "def hash_multi_plane_matrix(P, v, num_planes):\n",
    "    sides_matrix = side_of_plane_matrix(P, v) # Get the side of planes for P and v\n",
    "    hash_value = 0\n",
    "    for i in range(num_planes):\n",
    "        sign = sides_matrix[i].item() # Get the value inside the matrix cell\n",
    "        hash_i = 1 if sign >= 0 else 0\n",
    "        hash_value += 2**i * hash_i \n",
    "\n",
    "    return hash_value"
   ]
  },
  {
   "cell_type": "markdown",
   "id": "b19b051a",
   "metadata": {},
   "source": [
    "Print the bucket hash for the vector `v = [2, 2]`."
   ]
  },
  {
   "cell_type": "code",
   "execution_count": 38,
   "id": "43a2258e",
   "metadata": {},
   "outputs": [
    {
     "data": {
      "text/plain": [
       "7"
      ]
     },
     "execution_count": 38,
     "metadata": {},
     "output_type": "execute_result"
    }
   ],
   "source": [
    "hash_multi_plane_matrix(random_planes_matrix, v, num_planes)"
   ]
  },
  {
   "cell_type": "markdown",
   "id": "91164595",
   "metadata": {},
   "source": [
    "## Document vectors\n",
    "\n",
    "Before we finish this lab, remember that you can represent a document as a vector by adding up the word vectors for the words inside the document. In this example, our embedding contains only three words, each represented by a 3D array."
   ]
  },
  {
   "cell_type": "code",
   "execution_count": 39,
   "id": "63995e08",
   "metadata": {},
   "outputs": [
    {
     "name": "stdout",
     "output_type": "stream",
     "text": [
      "[1 0 3]\n"
     ]
    }
   ],
   "source": [
    "word_embedding = {\"I\": np.array([1, 0, 1]),\n",
    "                  \"love\": np.array([-1, 0, 1]),\n",
    "                  \"learning\": np.array([1,0,1])\n",
    "                 }\n",
    "words_in_document  = ['I', 'love', 'learning', 'not_a_word']\n",
    "document_embeding = np.array([0,0,0])\n",
    "for word in words_in_document:\n",
    "    document_embeding += word_embedding.get(word, 0)\n",
    "    \n",
    "print(document_embeding)"
   ]
  }
 ],
 "metadata": {
  "kernelspec": {
   "display_name": "Python 3 (ipykernel)",
   "language": "python",
   "name": "python3"
  },
  "language_info": {
   "codemirror_mode": {
    "name": "ipython",
    "version": 3
   },
   "file_extension": ".py",
   "mimetype": "text/x-python",
   "name": "python",
   "nbconvert_exporter": "python",
   "pygments_lexer": "ipython3",
   "version": "3.9.9"
  }
 },
 "nbformat": 4,
 "nbformat_minor": 5
}
